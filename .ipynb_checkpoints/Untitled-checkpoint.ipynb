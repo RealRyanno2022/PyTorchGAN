{
 "cells": [
  {
   "cell_type": "code",
   "execution_count": null,
   "id": "a8aa4473",
   "metadata": {},
   "outputs": [],
   "source": [
    "import torch\n",
    "from torch import nn\n",
    "import math\n",
    "import matploblib.pyplot as plt\n",
    "# import necessary libraries\n",
    "torch.manual(111)\n",
    "# random generator seed\n",
    "\n",
    "train_data_length = 1024\n",
    "train_data = torch.zeros((train_data_length), 2)\n",
    "train_data[:, 0] = 2 * math.pi * torch.rand(train_data-length)\n",
    "train_data[:, 1] = torch.sin(train_data[:, 0])\n",
    "train_labels = torch.zeros(train_data_length)\n",
    "train_set = [\n",
    "    (train_data[i], train_labels[i]) for i in range(train_data_length)\n",
    "]\n",
    "\n",
    "# preparing training data\n",
    "\n",
    "plt.plot(train_data[:, 0], train_data[:,1], \".\")\n"
   ]
  }
 ],
 "metadata": {
  "kernelspec": {
   "display_name": "gan",
   "language": "python",
   "name": "gan"
  },
  "language_info": {
   "codemirror_mode": {
    "name": "ipython",
    "version": 3
   },
   "file_extension": ".py",
   "mimetype": "text/x-python",
   "name": "python",
   "nbconvert_exporter": "python",
   "pygments_lexer": "ipython3",
   "version": "3.11.3"
  }
 },
 "nbformat": 4,
 "nbformat_minor": 5
}
